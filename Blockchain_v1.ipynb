{
 "cells": [
  {
   "cell_type": "markdown",
   "metadata": {},
   "source": [
    "# REFERENCE\n",
    "https://github.com/hypnopump/pysimplechain/blob/master/simple_chain.py"
   ]
  },
  {
   "cell_type": "code",
   "execution_count": 1,
   "metadata": {
    "id": "9j7o0bt-17XW"
   },
   "outputs": [],
   "source": [
    "counter=0\n",
    "utxo_pool={}\n",
    "Transaction_queue=[]\n",
    "users={}\n",
    "user_counter=0"
   ]
  },
  {
   "cell_type": "markdown",
   "metadata": {
    "id": "4PtmdgaoQlCn"
   },
   "source": [
    "# error classes"
   ]
  },
  {
   "cell_type": "code",
   "execution_count": 2,
   "metadata": {
    "id": "i0CHDxYXo7II"
   },
   "outputs": [],
   "source": [
    "class InvalidTransaction(Exception):\n",
    "\tdef __init__(self,*args,**kwargs):\n",
    "\t\tException.__init__(self,*args,**kwargs)\n",
    "\n",
    "class InvalidBlock(Exception):\n",
    "\tdef __init__(self,*args,**kwargs):\n",
    "\t\tException.__init__(self,*args,**kwargs)\n",
    "\n",
    "class InvalidBlockchain(Exception):\n",
    "\tdef __init__(self,*args,**kwargs):\n",
    "\t\tException.__init__(self,*args,**kwargs)\n",
    "class InvalidTransactionAttempt(Exception):\n",
    "\tdef __init__(self,*args,**kwargs):\n",
    "\t\tException.__init__(self,*args,**kwargs)"
   ]
  },
  {
   "cell_type": "markdown",
   "metadata": {
    "id": "2OOdNKDbQsZN"
   },
   "source": [
    "# transaction inputs (tin and tout)"
   ]
  },
  {
   "cell_type": "code",
   "execution_count": 3,
   "metadata": {
    "id": "UyHPxdq8QHd1"
   },
   "outputs": [],
   "source": [
    "import datetime\n",
    "import hashlib\n",
    "import time\n",
    "\n",
    "# single transaction (utxo)\n",
    "class transaction:\n",
    "  def __init__(self, sender_id,receiver_id,amt,id):\n",
    "    self.sender_id=sender_id\n",
    "    self.receiver_id=receiver_id\n",
    "    self.amt=amt\n",
    "    # self.age=0\n",
    "    # self.p_id=\n",
    "    self.id=id\n",
    "  def __repr__(self):\n",
    "    return 'Transaction<sender: {}, receiver: {}, amt: {}>'.format(\n",
    "      self.sender_id, self.receiver_id, self.amt\n",
    "    )\n",
    "  def setamt(self,amt):\n",
    "    retval=self.amt-amt\n",
    "    self.amt=amt\n",
    "    return retval\n",
    "\n"
   ]
  },
  {
   "cell_type": "markdown",
   "metadata": {
    "id": "exDbFz-iQls1"
   },
   "source": [
    "# Transactions"
   ]
  },
  {
   "cell_type": "code",
   "execution_count": 4,
   "metadata": {
    "id": "TtEFa6qE5GvS"
   },
   "outputs": [],
   "source": [
    "# collection of utxos Transaction\n",
    "class Transaction:\n",
    "  def __init__(self, utxos,gen_utxos):\n",
    "    self.utxos=utxos\n",
    "    self.new_utxos=gen_utxos\n",
    "    self.hash = None\n",
    "    self.prev_hash = \"0\"*64\n",
    "    self.timestamp = time.time()\n",
    "    self.data = \"\"\n",
    "    for i in self.utxos:\n",
    "      self.data=hashlib.sha256(bytearray(str(i.id)+str(self.data), \"utf-8\")).hexdigest()\n",
    "\n",
    "    self.payload_hash = self._hash_payload()\n",
    "\n",
    "  def _hash_payload(self):\n",
    "    return hashlib.sha256(bytearray(str(self.timestamp) + str(self.data), \"utf-8\")).hexdigest()\n",
    "\n",
    "  def _hash_Transaction(self):\n",
    "    return hashlib.sha256(bytearray(str(self.prev_hash) + self.payload_hash, \"utf-8\")).hexdigest()\n",
    "\n",
    "  def link(self, Tr):\n",
    "    \"\"\" Link the transaction to the previous one via hashes.\"\"\"\n",
    "    self.prev_hash = Tr.hash\n",
    "\n",
    "  def seal(self):\n",
    "    \"\"\" Get the transaction hash. \"\"\"\n",
    "    self.hash = self._hash_Transaction()\n",
    "\n",
    "\n",
    "  def validate(self):\n",
    "    \"\"\" Check whether the transaction is valid or not. \"\"\"\n",
    "    if self.payload_hash != self._hash_payload():\n",
    "      raise InvalidTransaction(\"Invalid payload hash in message: \" + str(self))\n",
    "    if self.hash != self._hash_Transaction():\n",
    "      raise InvalidTransaction(\"Invalid message hash in message: \" + str(self))\n",
    "\n",
    "  def __repr__(self):\n",
    "    return 'Transaction<hash: {}, prev_hash: {}, utxo_hash: {}>'.format(\n",
    "      self.hash, self.prev_hash, self.data[:20]\n",
    "    )"
   ]
  },
  {
   "cell_type": "markdown",
   "metadata": {
    "id": "FBmDhGz8Q3LF"
   },
   "source": [
    "# Block"
   ]
  },
  {
   "cell_type": "code",
   "execution_count": 5,
   "metadata": {
    "id": "4O5QFCg3nZw0"
   },
   "outputs": [],
   "source": [
    "class Block:\n",
    "  def __init__(self, *args):\n",
    "    self.Trxs = []\n",
    "    self.timestamp = None\n",
    "    self.prev_hash = None\n",
    "    self.hash = None\n",
    "    self.nonce=0\n",
    "    # if args:\n",
    "    #   for arg in args:\n",
    "    #     self.add_message(arg)\n",
    "\n",
    "  def _hash_block(self):\n",
    "    return hashlib.sha256(bytearray(str(self.prev_hash) + str(self.timestamp) + self.Trxs[-1].hash + str(self.nonce), \"utf-8\")).hexdigest()\n",
    "\n",
    "  def add_transaction(self, Trx):\n",
    "    if len(self.Trxs) > 0:\n",
    "      Trx.link(self.Trxs[-1])\n",
    "    Trx.seal()\n",
    "    Trx.validate()\n",
    "    self.Trxs.append(Trx)\n",
    "\n",
    "  def link(self, block):\n",
    "    self.prev_hash = block.hash\n",
    "\n",
    "  def seal(self):\n",
    "    diff=2\n",
    "    self.timestamp = time.time()\n",
    "    self.hash = self._hash_block()\n",
    "    while(self.hash[:diff]!=\"0\"*diff):\n",
    "      self.nonce+=1\n",
    "      self.hash = self._hash_block()\n",
    "\n",
    "\n",
    "  def validate(self):\n",
    "    for i, msg in enumerate(self.Trxs):\n",
    "      try:\n",
    "        msg.validate()\n",
    "        if i > 0 and msg.prev_hash != self.Trxs[i-1].hash:\n",
    "          raise InvalidBlock(\"Invalid block: Message #{} has invalid message link in block: {}\".format(i, str(self)))\n",
    "      except InvalidBlock as ex:\n",
    "        raise InvalidBlock(\"Invalid block: Message #{} failed validation: {}. In block: {}\".format(\n",
    "        i, str(ex), str(self))\n",
    "        )\n",
    "\n",
    "  def __repr__(self):\n",
    "    return 'Block<hash: {}, prev_hash: {}, Trxs: {}, time: {}>'.format(\n",
    "    self.hash, self.prev_hash, len(self.Trxs), self.timestamp\n",
    "  )"
   ]
  },
  {
   "cell_type": "markdown",
   "metadata": {
    "id": "tSrTKB3mQ68O"
   },
   "source": [
    "# BlockChain"
   ]
  },
  {
   "cell_type": "code",
   "execution_count": 6,
   "metadata": {
    "id": "kAWloOyfncmz"
   },
   "outputs": [],
   "source": [
    "class BlockChain:\n",
    "\tdef __init__(self):\n",
    "\t\tself.chain = []\n",
    "\n",
    "\tdef add_block(self, block):\n",
    "\t\t\"\"\" Add a block if valid.\"\"\"\n",
    "\t\tif len(self.chain) > 0:\n",
    "\t\t\tblock.prev_hash = self.chain[-1].hash\n",
    "\t\tblock.seal()\n",
    "\t\tblock.validate()\n",
    "\t\tself.chain.append(block)\n",
    "\n",
    "\tdef validate(self):\n",
    "\t\t\"\"\" Validates each block, in order.\n",
    "\t\t\tAn invalid block invalidates the chain.\n",
    "\t\t\"\"\"\n",
    "\t\tfor i, block in enumerate(self.chain):\n",
    "\t\t\ttry:\n",
    "\t\t\t\tblock.validate()\n",
    "\t\t\texcept InvalidBlock as exc:\n",
    "\t\t\t\traise InvalidBlockchain(\"Invalid blockchain at block number {} caused by: {}\".format(i, str(exc)))\n",
    "\t\treturn True\n",
    "\n",
    "\tdef __repr__(self):\n",
    "\t\treturn 'BlockChain<blocks: {}>'.format(len(self.chain))\n",
    "\n",
    "\n"
   ]
  },
  {
   "cell_type": "markdown",
   "metadata": {
    "id": "355QBB7hQ90G"
   },
   "source": [
    "# User"
   ]
  },
  {
   "cell_type": "code",
   "execution_count": 7,
   "metadata": {
    "id": "1HV6DH02T3vk"
   },
   "outputs": [],
   "source": [
    "class User:\n",
    "  def __init__(self,name,id):\n",
    "    self.name=name\n",
    "    self.id=id\n",
    "\n",
    "  def transact(self,receiver_ids,amnts):\n",
    "    global counter\n",
    "    global utxo_pool\n",
    "    global Transaction_queue\n",
    "    global users\n",
    "    global user_counter\n",
    "    val=0\n",
    "    t_in=[]\n",
    "    amnt=sum(amnts)\n",
    "    for i in utxo_pool:\n",
    "      if utxo_pool[i].receiver_id==self.id:\n",
    "        val+=utxo_pool[i].amt\n",
    "        t_in.append(utxo_pool[i])\n",
    "        if val>=amnt:\n",
    "          break\n",
    "    if val<amnt:\n",
    "      raise InvalidTransactionAttempt(\"not enough utxos in pool: \" + str(self))\n",
    "\n",
    "    t_out=[]\n",
    "    for i,j in zip(receiver_ids,amnts):\n",
    "      t_out.append(transaction(self.id,i,j,counter))\n",
    "      counter+=1\n",
    "\n",
    "    if val>amnt:\n",
    "      t_out.append(transaction(self.id,self.id,val-amnt,counter))\n",
    "      counter+=1\n",
    "    Transaction_queue.append(Transaction(t_in,t_out))\n",
    "  \n",
    "  def mine(self,chain):\n",
    "    global counter\n",
    "    global utxo_pool\n",
    "    global Transaction_queue\n",
    "    global users\n",
    "    global user_counter\n",
    "    \n",
    "    block=Block()\n",
    "    mining_tr=[]\n",
    "    mining_tr.append(transaction(\"_BANK\",self.id,6.25,counter))\n",
    "    counter+=1\n",
    "    block.add_transaction(Transaction([],mining_tr))\n",
    "    i=0\n",
    "    while i<10 and i<len(Transaction_queue):\n",
    "      temp_Tr=Transaction_queue[i]\n",
    "      # print(i)\n",
    "      processing_trans=[]\n",
    "      for trx in temp_Tr.new_utxos:\n",
    "        processing_fee=trx.setamt(trx.amt*0.95)\n",
    "        processing_trans.append(transaction(trx.sender_id,self.id,processing_fee,counter))\n",
    "        counter+=1\n",
    "      for ptr in processing_trans:\n",
    "        temp_Tr.new_utxos.append(ptr)\n",
    "      \n",
    "      # add this in the block\n",
    "      block.add_transaction(temp_Tr)\n",
    "      i+=1\n",
    "    \n",
    "    chain.add_block(block)\n",
    "      # validate the block\n",
    "    \n",
    "    j=0\n",
    "    # pick first 10 Transactions in the queue\n",
    "    while j<10 and j<len(Transaction_queue):\n",
    "      temp_Tr=Transaction_queue[j]   \n",
    "      #  remove the old utxos\n",
    "      rem_utxo_id=[]\n",
    "      for utxo1 in temp_Tr.utxos:\n",
    "        for i in utxo_pool:\n",
    "          if i == utxo1.id:\n",
    "            rem_utxo_id.append(i)\n",
    "            break\n",
    "      # utxo_pool = [x for x in utxo_pool if not x.id in rem_utxo_id]\n",
    "      for i in rem_utxo_id:\n",
    "        del utxo_pool[i]\n",
    "      # add the new ones\n",
    "      for i in temp_Tr.new_utxos:\n",
    "        utxo_pool[i.id]=i\n",
    "      j+=1\n",
    "    utxo_pool[mining_tr[0].id]=mining_tr[0]\n",
    "    # remove the Transactions from the Transactionsqueue\n",
    "    i=0\n",
    "    while i<10 and Transaction_queue:\n",
    "      Transaction_queue.pop(0)\n",
    "      i+=1"
   ]
  },
  {
   "cell_type": "markdown",
   "metadata": {
    "id": "lLQmRiMTmWYY"
   },
   "source": [
    "# Run"
   ]
  },
  {
   "cell_type": "code",
   "execution_count": 8,
   "metadata": {
    "colab": {
     "base_uri": "https://localhost:8080/"
    },
    "id": "09Ydf96qk8LO",
    "outputId": "756ad203-2e98-4167-8e26-4c8ede0d166a"
   },
   "outputs": [
    {
     "name": "stdout",
     "output_type": "stream",
     "text": [
      "\n",
      "  Basic implementation of a Blockchain. Changes are inmutable. Be aware.\n",
      "  Action set:\n",
      "  - add User                           (0)\n",
      "  - show a users utxos in the pool     (1)\n",
      "  - transact                           (2)\n",
      "  - select user to mine                (3)\n",
      "  - show a block (index will be asked) (4)\n",
      "  - show the whole chain               (5)\n",
      "  - validate the chain integrity       (6)\n",
      "  - display the global pool            (7)\n",
      "  - display the transaction queue      (8)\n",
      "  - display users list                 (9)\n",
      "  - exit the program                   (10)\n",
      "\n",
      "  The validate action will kill the program if the integrity if the chain\n",
      "  is compromised.\n",
      "  \n",
      "\n",
      "Your action: 0\n",
      "Provide nameA\n",
      "User create with user id  0\n",
      "\n",
      "Your action: 0\n",
      "Provide nameB\n",
      "User create with user id  1\n",
      "\n",
      "Your action: 0\n",
      "Provide nameC\n",
      "User create with user id  2\n",
      "\n",
      "Your action: 3\n",
      "Provide id0\n",
      "Block mined by user  0\n",
      "\n",
      "Your action: 2\n",
      "Provide user id0\n",
      "provide txn_outs,enter -1 to break\n",
      "recv id1\n",
      "amt3\n",
      "recv id-1\n",
      "Transaction added by user 0\n",
      "\n",
      "Your action: 3\n",
      "Provide id2\n",
      "Block mined by user  2\n",
      "\n",
      "Your action: 7\n",
      "1 Transaction<sender: 0, receiver: 1, amt: 2.8499999999999996>\n",
      "2 Transaction<sender: 0, receiver: 0, amt: 3.0875>\n",
      "4 Transaction<sender: 0, receiver: 2, amt: 0.15000000000000036>\n",
      "5 Transaction<sender: 0, receiver: 2, amt: 0.1625000000000001>\n",
      "3 Transaction<sender: _BANK, receiver: 2, amt: 6.25>\n",
      "----------------\n",
      "\n",
      "Your action: 10\n"
     ]
    }
   ],
   "source": [
    "def manager():\n",
    "  global counter\n",
    "  global utxo_pool\n",
    "  global Transaction_queue\n",
    "  global users\n",
    "  global user_counter\n",
    "  counter=0\n",
    "  utxo_pool={}\n",
    "  Transaction_queue=[]\n",
    "  users={}\n",
    "  user_counter=0\n",
    "\n",
    "  chain = BlockChain()\n",
    "\n",
    "  msg = \"\"\"\n",
    "  Basic implementation of a Blockchain. Changes are inmutable. Be aware.\n",
    "  Action set:\n",
    "  - add User                           (0)\n",
    "  - show a users utxos in the pool     (1)\n",
    "  - transact                           (2)\n",
    "  - select user to mine                (3)\n",
    "  - show a block (index will be asked) (4)\n",
    "  - show the whole chain               (5)\n",
    "  - validate the chain integrity       (6)\n",
    "  - display the global pool            (7)\n",
    "  - display the transaction queue      (8)\n",
    "  - display users list                 (9)\n",
    "  - exit the program                   (10)\n",
    "\n",
    "  The validate action will kill the program if the integrity if the chain\n",
    "  is compromised.\n",
    "  \"\"\"\n",
    "\n",
    "  print(msg)\t\n",
    "  while True:\n",
    "    print()\n",
    "\n",
    "    decide = input(\"Your action: \")\n",
    "\n",
    "    if decide == \"0\":\n",
    "      name=input(\"Provide name\")\n",
    "      users[user_counter]=User(name,user_counter)\n",
    "      user_counter= user_counter+1\n",
    "      print(\"User create with user id \", user_counter-1)\n",
    "\n",
    "    elif decide == \"1\":\n",
    "      id=int(input(\"Provide id\"))\n",
    "      for i in utxo_pool:\n",
    "        if utxo_pool[i].receiver_id == id :\n",
    "          print(utxo_pool[i])\n",
    "\n",
    "\n",
    "    elif decide == \"2\":\n",
    "      user_id=int(input(\"Provide user id\"))\n",
    "\n",
    "      print(\"provide txn_outs,enter -1 to break\")\n",
    "      recids=[]\n",
    "      amts=[]\n",
    "      while True:\n",
    "        recid=int(input(\"recv id\"))\n",
    "        if recid == -1:\n",
    "          break\n",
    "        recids.append(recid)\n",
    "        amts.append(float(input(\"amt\")))\n",
    "        \n",
    "      users[user_id].transact(recids,amts)\n",
    "      print(\"Transaction added by user\" , user_id)\n",
    "\n",
    "    elif decide == \"3\":\n",
    "      id=int(input(\"Provide id\"))\n",
    "      users[id].mine(chain)\n",
    "      print(\"Block mined by user \",id) \n",
    "\n",
    "    elif decide == \"4\":\n",
    "      index = int(input(\"Provide the index: \"))\n",
    "      if len(chain.chain)>0:\n",
    "        try: print(chain.chain[index])\n",
    "        except: print(\"An issue occurred\")\n",
    "    elif decide == \"5\":\n",
    "      for b in chain.chain:\n",
    "        print(b)\n",
    "        print(\"----------------\")\n",
    "    elif decide == \"6\":\n",
    "      if chain.validate(): print(\"Integrity validated.\")\n",
    "    elif decide == \"7\":\n",
    "      for utxo in utxo_pool:\n",
    "        print(utxo,utxo_pool[utxo])\n",
    "      print(\"----------------\")\n",
    "    elif decide == \"8\":\n",
    "      for trx in Transaction_queue:\n",
    "        print(trx)\n",
    "      print(\"----------------\")\n",
    "    elif decide == \"9\":\n",
    "      for userid in users:\n",
    "        print(userid,users[userid].name)\n",
    "      print(\"----------------\")\n",
    "    else:\n",
    "      break\n",
    "\n",
    "if __name__ == \"__main__\":\n",
    "\tmanager()"
   ]
  }
 ],
 "metadata": {
  "colab": {
   "collapsed_sections": [
    "-y9eys0zmwRt"
   ],
   "name": "blockchain_d2.ipynb",
   "provenance": [],
   "toc_visible": true
  },
  "kernelspec": {
   "display_name": "Python 3",
   "language": "python",
   "name": "python3"
  },
  "language_info": {
   "codemirror_mode": {
    "name": "ipython",
    "version": 3
   },
   "file_extension": ".py",
   "mimetype": "text/x-python",
   "name": "python",
   "nbconvert_exporter": "python",
   "pygments_lexer": "ipython3",
   "version": "3.7.6"
  }
 },
 "nbformat": 4,
 "nbformat_minor": 1
}
